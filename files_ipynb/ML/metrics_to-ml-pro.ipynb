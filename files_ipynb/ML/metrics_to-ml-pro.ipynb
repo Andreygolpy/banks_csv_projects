{
 "cells": [
  {
   "cell_type": "markdown",
   "metadata": {},
   "source": [
    "## 1. train_test_split"
   ]
  },
  {
   "cell_type": "markdown",
   "metadata": {},
   "source": [
    "Нужно закодить свою версию train_test_split :)"
   ]
  },
  {
   "cell_type": "code",
   "metadata": {
    "ExecuteTime": {
     "end_time": "2024-08-14T09:06:23.608310Z",
     "start_time": "2024-08-14T09:06:23.604541Z"
    }
   },
   "source": [
    "import random\n",
    "\n",
    "def my_train_test_split(X, y, test_size=0.2):\n",
    "\n",
    "    indices = list(range(len(X)))\n",
    "\n",
    "    test_indices = random.sample(indices, int(test_size * len(X)))\n",
    "\n",
    "    train_indices = [idx for idx in indices if idx not in test_indices]\n",
    "\n",
    "    X_train, X_test = X[train_indices], X[test_indices]\n",
    "    y_train, y_test = y[train_indices], y[test_indices]\n",
    "    return X_train, X_test, y_train, y_test"
   ],
   "outputs": [],
   "execution_count": 771
  },
  {
   "cell_type": "code",
   "metadata": {
    "ExecuteTime": {
     "end_time": "2024-08-14T09:06:23.620190Z",
     "start_time": "2024-08-14T09:06:23.616285Z"
    }
   },
   "source": [
    "# проверка \n",
    "import numpy as np\n",
    "\n",
    "X = np.array([[1, 2], [3, 4], [1, 2], [3, 4], [2, 6]])\n",
    "y = np.array([1, 0, 0, 0, 1])\n",
    "\n",
    "X_train, X_test, y_train, y_test = my_train_test_split(X, y, test_size=0.4)\n",
    "\n",
    "assert X_train.shape == (3, 2)\n",
    "assert X_test.shape == (2, 2)\n",
    "assert y_train.shape == (3,)\n",
    "assert y_test.shape == (2,)\n"
   ],
   "outputs": [],
   "execution_count": 772
  },
  {
   "cell_type": "markdown",
   "metadata": {},
   "source": [
    "##  2. mae, mse, mape "
   ]
  },
  {
   "cell_type": "code",
   "metadata": {
    "ExecuteTime": {
     "end_time": "2024-08-14T09:06:23.700653Z",
     "start_time": "2024-08-14T09:06:23.697950Z"
    }
   },
   "source": [
    "def my_mae_score(y_true, y_pred):\n",
    "    mae = np.mean(np.abs(y_true - y_pred))\n",
    "    return mae\n"
   ],
   "outputs": [],
   "execution_count": 773
  },
  {
   "cell_type": "code",
   "metadata": {
    "ExecuteTime": {
     "end_time": "2024-08-14T09:06:23.713087Z",
     "start_time": "2024-08-14T09:06:23.710388Z"
    }
   },
   "source": [
    "def my_mse_score(y_true, y_pred):\n",
    "    mse = np.mean(np.square(y_true - y_pred))\n",
    "    return mse\n"
   ],
   "outputs": [],
   "execution_count": 774
  },
  {
   "cell_type": "code",
   "metadata": {
    "ExecuteTime": {
     "end_time": "2024-08-14T09:06:23.725030Z",
     "start_time": "2024-08-14T09:06:23.722582Z"
    }
   },
   "source": [
    "def my_mape_score(y_true, y_pred):\n",
    "    return np.mean(np.abs((y_true - y_pred) / y_true))"
   ],
   "outputs": [],
   "execution_count": 775
  },
  {
   "cell_type": "code",
   "metadata": {
    "ExecuteTime": {
     "end_time": "2024-08-14T09:06:23.739544Z",
     "start_time": "2024-08-14T09:06:23.734771Z"
    }
   },
   "source": [
    "######################################################\n",
    "from sklearn import metrics\n",
    "y_real = np.array([1,2,3,4,6])\n",
    "y_pred = np.array([1,3,2,4,5])\n",
    "\n",
    "mae = my_mae_score(y_real, y_pred)\n",
    "mse = my_mse_score(y_real, y_pred)\n",
    "mape = my_mape_score(y_real, y_pred)\n",
    "\n",
    "eps = 0.0001\n",
    "assert np.abs(mae - metrics.mean_absolute_error(y_real, y_pred)) < eps\n",
    "assert np.abs(mse - metrics.mean_squared_error(y_real, y_pred)) < eps\n",
    "assert np.abs(mape  - metrics.mean_absolute_percentage_error(y_real, y_pred)) < eps\n",
    "######################################################\n"
   ],
   "outputs": [],
   "execution_count": 776
  },
  {
   "cell_type": "markdown",
   "metadata": {},
   "source": [
    "## 3. confusion matrix"
   ]
  },
  {
   "cell_type": "code",
   "metadata": {
    "ExecuteTime": {
     "end_time": "2024-08-14T09:06:23.753713Z",
     "start_time": "2024-08-14T09:06:23.749986Z"
    }
   },
   "source": [
    "def my_confusion_matrix(y_true, y_pred):\n",
    "    tn, fp, fn, tp = 0, 0, 0, 0\n",
    "    for i in range(len(y_true)):\n",
    "        if y_true[i] == y_pred[i] == 0:\n",
    "            tn += 1\n",
    "        elif y_true[i] == 0 and y_pred[i] == 1:\n",
    "            fp += 1\n",
    "        elif y_true[i] == 1 and y_pred[i] == 0:\n",
    "            fn += 1\n",
    "        elif y_true[i] == y_pred[i] == 1:\n",
    "            tp += 1\n",
    "    return [tn, fp, fn, tp]"
   ],
   "outputs": [],
   "execution_count": 777
  },
  {
   "cell_type": "code",
   "metadata": {
    "ExecuteTime": {
     "end_time": "2024-08-14T09:06:23.767796Z",
     "start_time": "2024-08-14T09:06:23.764122Z"
    }
   },
   "source": [
    "#############\n",
    "y_true = [0, 1, 0, 1, 0, 1, 0, 0, 1, 1]\n",
    "y_pred = [0, 1, 1, 1, 0, 0, 1, 0, 1, 1]\n",
    "\n",
    "tn, fp, fn, tp = my_confusion_matrix(y_true, y_pred)\n",
    "assert tn == 3\n",
    "assert fp == 2\n",
    "assert fn == 1\n",
    "assert tp == 4\n",
    "\n",
    "###################\n"
   ],
   "outputs": [],
   "execution_count": 778
  },
  {
   "cell_type": "markdown",
   "metadata": {},
   "source": [
    "## 4. Кросс-валидация"
   ]
  },
  {
   "cell_type": "markdown",
   "metadata": {},
   "source": [
    "4.1 Напишите свою версию K-Fold кросс валидации\n"
   ]
  },
  {
   "cell_type": "code",
   "metadata": {
    "ExecuteTime": {
     "end_time": "2024-08-14T09:06:23.783453Z",
     "start_time": "2024-08-14T09:06:23.778989Z"
    }
   },
   "source": [
    "def my_kfold(X, n_splits=5):\n",
    "    indices = np.arange(len(X))\n",
    "    np.random.shuffle(indices)\n",
    "\n",
    "    fold_sizes = np.full(n_splits, len(X) // n_splits, dtype=int)\n",
    "    fold_sizes[:len(X) % n_splits] += 1\n",
    "    current = 0\n",
    "    list_of_indices = []\n",
    "    for fold_size in fold_sizes:\n",
    "        start, stop = current, current + fold_size\n",
    "        val_indices = indices[start:stop]\n",
    "        train_indices = np.concatenate((indices[:start], indices[stop:]))\n",
    "        list_of_indices.append([train_indices, val_indices])\n",
    "        current = stop\n",
    "    return list_of_indices\n",
    "    # подсказка - возьмите индексы, перемешайте их и разделите на n_splits частей\n",
    "\n",
    "    ### ╰( ͡° ͜ʖ ͡° )つ──☆*:・ﾟ\n",
    "    ## возвращает список из индексов для обучения и валидации\n",
    "    ## например, для 5 фолдов:\n",
    "    ## [[train_indices_1, val_indices_1], [train_indices_2, val_indices_2], ...]"
   ],
   "outputs": [],
   "execution_count": 779
  },
  {
   "cell_type": "markdown",
   "metadata": {},
   "source": [
    "4.2 Попробуем применить нашу кросс валидацию. \n",
    "\n",
    "Давайте прогоним ее на какой-нибудь задаче\n",
    "\n",
    "\n"
   ]
  },
  {
   "cell_type": "code",
   "metadata": {
    "ExecuteTime": {
     "end_time": "2024-08-14T09:06:23.800912Z",
     "start_time": "2024-08-14T09:06:23.793095Z"
    }
   },
   "source": [
    "import sklearn.datasets \n",
    "\n",
    "# скачиваем данные\n",
    "X, y = sklearn.datasets.load_diabetes(return_X_y=True)\n",
    "X.shape, y.shape"
   ],
   "outputs": [
    {
     "data": {
      "text/plain": [
       "((442, 10), (442,))"
      ]
     },
     "execution_count": 780,
     "metadata": {},
     "output_type": "execute_result"
    }
   ],
   "execution_count": 780
  },
  {
   "cell_type": "code",
   "metadata": {
    "ExecuteTime": {
     "end_time": "2024-08-14T09:06:23.895359Z",
     "start_time": "2024-08-14T09:06:23.879049Z"
    }
   },
   "source": [
    "import sklearn.datasets\n",
    "from sklearn.linear_model import LinearRegression\n",
    "from sklearn.model_selection import KFold\n",
    "from sklearn.metrics import mean_squared_error, mean_absolute_error, mean_absolute_percentage_error, r2_score\n",
    "X, y = sklearn.datasets.load_diabetes(return_X_y=True)\n",
    "\n",
    "kf = KFold(n_splits=5)\n",
    "\n",
    "mse_scores = []\n",
    "mae_scores = []\n",
    "mape_scores = []\n",
    "r2_scores = []\n",
    "\n",
    "for train_index, test_index in kf.split(X):\n",
    "    X_train, X_test = X[train_index], X[test_index]\n",
    "    y_train, y_test = y[train_index], y[test_index]\n",
    "\n",
    "    model = LinearRegression()\n",
    "    model.fit(X_train, y_train)\n",
    "\n",
    "    y_pred = model.predict(X_test)\n",
    "\n",
    "    mse_scores.append(mean_squared_error(y_test, y_pred))\n",
    "    mae_scores.append(mean_absolute_error(y_test, y_pred))\n",
    "    mape_scores.append(mean_absolute_percentage_error(y_test, y_pred))\n",
    "    r2_scores.append(r2_score(y_test, y_pred))\n",
    "\n",
    "print(\"Средний MSE:\", np.mean(mse_scores))\n",
    "print(\"Средний MAE:\", np.mean(mae_scores))\n",
    "print(\"Средний MAPE:\", np.mean(mape_scores))\n",
    "print(\"Средний R-squared:\", np.mean(r2_scores))"
   ],
   "outputs": [
    {
     "name": "stdout",
     "output_type": "stream",
     "text": [
      "Средний MSE: 2993.081310469331\n",
      "Средний MAE: 44.27649923321497\n",
      "Средний MAPE: 0.3948603157216558\n",
      "Средний R-squared: 0.48231643590864215\n"
     ]
    }
   ],
   "execution_count": 781
  },
  {
   "metadata": {
    "ExecuteTime": {
     "end_time": "2024-08-14T09:10:51.792453Z",
     "start_time": "2024-08-14T09:10:51.783873Z"
    }
   },
   "cell_type": "code",
   "source": [
    "import sklearn.datasets\n",
    "from sklearn.linear_model import LinearRegression\n",
    "from sklearn.model_selection import KFold\n",
    "from sklearn.metrics import mean_squared_error\n",
    "\n",
    "X, y = sklearn.datasets.load_diabetes(return_X_y=True)\n",
    "\n",
    "kf = KFold(n_splits=5)\n",
    "\n",
    "mse_scores_baseline = []\n",
    "for train_index, test_index in kf.split(X):\n",
    "    y_train, y_test = y[train_index], y[test_index]\n",
    "\n",
    "    # Предсказываем среднее значение y_train для всех объектов тестовой выборки\n",
    "    y_pred = np.full(len(y_test), np.mean(y_train))\n",
    "\n",
    "    mse_scores_baseline.append(mean_squared_error(y_test, y_pred))\n",
    "\n",
    "print(\"Средний MSE (базовая модель):\", np.mean(mse_scores_baseline))"
   ],
   "outputs": [
    {
     "name": "stdout",
     "output_type": "stream",
     "text": [
      "Средний MSE (базовая модель): 5982.413413836098\n"
     ]
    }
   ],
   "execution_count": 786
  },
  {
   "cell_type": "markdown",
   "metadata": {},
   "source": [
    "## необязательное задание - ROC-AUC"
   ]
  },
  {
   "cell_type": "code",
   "metadata": {
    "ExecuteTime": {
     "end_time": "2024-08-14T09:16:11.905119Z",
     "start_time": "2024-08-14T09:16:11.900029Z"
    }
   },
   "source": [
    "def my_roc_auc_score(y_true, y_pred):\n",
    "    sorted_indices = np.argsort(y_pred)[::-1]\n",
    "    y_true_sorted = y_true[sorted_indices]\n",
    "    y_pred_sorted = y_pred[sorted_indices]\n",
    "\n",
    "    # Рассчитываем количество положительных и отрицательных объектов\n",
    "    n_positives = np.sum(y_true)\n",
    "    n_negatives = len(y_true) - n_positives\n",
    "\n",
    "    fpr = [0]\n",
    "    tpr = [0]\n",
    "    current_tpr = 0\n",
    "    current_fpr = 0\n",
    "\n",
    "    for i in range(len(y_true_sorted)):\n",
    "        if y_true_sorted[i] == 1:\n",
    "            current_tpr += 1\n",
    "        else:\n",
    "            current_fpr += 1\n",
    "        fpr.append(current_fpr / n_negatives)\n",
    "        tpr.append(current_tpr / n_positives)\n",
    "\n",
    "    roc_auc = np.trapz(tpr, fpr)\n",
    "\n",
    "    return roc_auc"
   ],
   "outputs": [],
   "execution_count": 787
  },
  {
   "cell_type": "code",
   "metadata": {
    "ExecuteTime": {
     "end_time": "2024-08-14T09:16:14.060478Z",
     "start_time": "2024-08-14T09:16:14.052889Z"
    }
   },
   "source": [
    "###########################\n",
    "from sklearn.metrics import roc_auc_score\n",
    "\n",
    "y_real = np.array([1,0,1,0,1])\n",
    "y_pred = np.array([0.9,0.1,0.8,0.2,0.7])\n",
    "\n",
    "score = my_roc_auc_score(y_real, y_pred)\n",
    "assert np.abs(score - roc_auc_score(y_real, y_pred)) < 0.0001\n",
    "\n",
    "###########################"
   ],
   "outputs": [],
   "execution_count": 788
  }
 ],
 "metadata": {
  "kernelspec": {
   "display_name": "Python 3",
   "language": "python",
   "name": "python3"
  },
  "language_info": {
   "codemirror_mode": {
    "name": "ipython",
    "version": 3
   },
   "file_extension": ".py",
   "mimetype": "text/x-python",
   "name": "python",
   "nbconvert_exporter": "python",
   "pygments_lexer": "ipython3",
   "version": "3.11.6"
  }
 },
 "nbformat": 4,
 "nbformat_minor": 2
}
