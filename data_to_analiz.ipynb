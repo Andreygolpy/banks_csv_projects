{
 "cells": [
  {
   "cell_type": "markdown",
   "metadata": {},
   "source": [
    "Гистограма распределения по признакам, если я не ошибаюсь тут нужна целевая переменная \n",
    "\n",
    "Реализация +- надо подумать"
   ]
  },
  {
   "cell_type": "markdown",
   "metadata": {},
   "source": [
    "for name in names:\n",
    "    X[name].hist(bins=9, label=name)\n",
    "    plt.legend()\n",
    "    plt.show()\n"
   ]
  },
  {
   "cell_type": "markdown",
   "metadata": {},
   "source": [
    "Кореляция \n",
    "весь код отрисовывает \n",
    "накладывает маску\n",
    "\n",
    "\n",
    "\n",
    "\n",
    "отрисовывает значения внутри матрицы"
   ]
  },
  {
   "cell_type": "markdown",
   "metadata": {},
   "source": [
    "dt=pd.concat([X,pd.DataFrame(Y, columns=['target'])], axis=1)\n",
    "sns.set(style=\"white\")\n",
    "\n",
    "# Считаем матрицу корреляций\n",
    "corr = dt.corr()\n",
    "\n",
    "# Генерируем маску для верхнего треугольника (верхней части диагонали)\n",
    "mask = np.zeros_like(corr, dtype=bool)\n",
    "\n",
    "mask[np.triu_indices_from(mask)] = True\n",
    "\n",
    "# Определяем matplotlib figure для построения графика\n",
    "f, ax = plt.subplots(figsize=(11, 9))\n",
    "\n",
    "# Задаем кастомную цветовую палитру (diverging colormap)\n",
    "cmap = sns.diverging_palette(220, 10, as_cmap=True)\n",
    "\n",
    "# Отрисовываем тепловую карту (heatmap) с заданной маской \n",
    "\n",
    "sns.heatmap(corr, mask=mask, cmap=cmap, center=0,vmin=-1, vmax=1,annot=True,\n",
    "            square=True, linewidths=.5, cbar_kws={\"shrink\": .5})\n",
    "\n",
    "plt.show()"
   ]
  },
  {
   "cell_type": "markdown",
   "metadata": {},
   "source": [
    "Попарные взаимосвязи scater - точечная диаграма \n",
    " target - разбитие на группы, hue - отвечает за разбивку по цветам "
   ]
  },
  {
   "cell_type": "markdown",
   "metadata": {},
   "source": [
    "sns.pairplot(dt, kind='scatter', hue='target')\n",
    "plt.show()\n"
   ]
  },
  {
   "cell_type": "markdown",
   "metadata": {},
   "source": []
  },
  {
   "cell_type": "markdown",
   "metadata": {},
   "source": [
    "### Задача 1. Воспользуйтесь методом one-hot-encoding для полей остров и вид. ЗАГУГЛИТЬ!"
   ]
  },
  {
   "cell_type": "code",
   "execution_count": null,
   "metadata": {
    "vscode": {
     "languageId": "plaintext"
    }
   },
   "outputs": [],
   "source": [
    "data = pd.get_dummies(data, columns=[\"остров\", \"вид\"])"
   ]
  },
  {
   "cell_type": "markdown",
   "metadata": {},
   "source": [
    "Клевые паирплоты"
   ]
  },
  {
   "cell_type": "code",
   "execution_count": null,
   "metadata": {
    "vscode": {
     "languageId": "plaintext"
    }
   },
   "outputs": [],
   "source": [
    "sns.lmplot(data=data, x='LotFrontage', y='SalePrice', aspect=3, height=5)\n",
    "plt.show()"
   ]
  },
  {
   "cell_type": "code",
   "execution_count": null,
   "metadata": {
    "vscode": {
     "languageId": "plaintext"
    }
   },
   "outputs": [],
   "source": [
    "plt.figure(figsize=(10,5))\n",
    "sns.boxplot(data = data, x = 'LotFrontage')\n",
    "plt.show()"
   ]
  },
  {
   "cell_type": "code",
   "execution_count": null,
   "metadata": {
    "vscode": {
     "languageId": "plaintext"
    }
   },
   "outputs": [],
   "source": [
    "plt.figure(figsize=(15, 8))\n",
    "sns.boxplot(data=data, y='LotFrontage', x='PriceGroups', hue='PriceGroups')"
   ]
  },
  {
   "cell_type": "markdown",
   "metadata": {},
   "source": [
    "паирплот ниже подойдет для позитивных и негативных"
   ]
  },
  {
   "cell_type": "code",
   "execution_count": null,
   "metadata": {
    "vscode": {
     "languageId": "plaintext"
    }
   },
   "outputs": [],
   "source": [
    "plt.figure(figsize=(10,6))\n",
    "sns.boxplot(data=data, x='SalePrice', y='MSZoning', hue='MSZoning')\n",
    "plt.show()"
   ]
  }
 ],
 "metadata": {
  "language_info": {
   "name": "python"
  }
 },
 "nbformat": 4,
 "nbformat_minor": 2
}
